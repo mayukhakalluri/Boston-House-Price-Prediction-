{
 "cells": [
  {
   "cell_type": "code",
   "execution_count": 1,
   "id": "eb77926f-b655-4133-b7d2-eee6a3489095",
   "metadata": {},
   "outputs": [],
   "source": [
    "import numpy as np\n",
    "import pandas as pd\n",
    "\n",
    "import yfinance as yf #for the data\n",
    "\n",
    "import seaborn as sns \n",
    "import matplotlib.pyplot as plt   \n",
    "%matplotlib inline "
   ]
  },
  {
   "cell_type": "code",
   "execution_count": 2,
   "id": "5797bbbb-1614-4643-8a4d-2623f05aa639",
   "metadata": {},
   "outputs": [
    {
     "name": "stdin",
     "output_type": "stream",
     "text": [
      "Enter the code of the stock:-  ng=f\n"
     ]
    },
    {
     "name": "stdout",
     "output_type": "stream",
     "text": [
      "[*********************100%%**********************]  1 of 1 completed\n"
     ]
    },
    {
     "data": {
      "text/html": [
       "<div>\n",
       "<style scoped>\n",
       "    .dataframe tbody tr th:only-of-type {\n",
       "        vertical-align: middle;\n",
       "    }\n",
       "\n",
       "    .dataframe tbody tr th {\n",
       "        vertical-align: top;\n",
       "    }\n",
       "\n",
       "    .dataframe thead th {\n",
       "        text-align: right;\n",
       "    }\n",
       "</style>\n",
       "<table border=\"1\" class=\"dataframe\">\n",
       "  <thead>\n",
       "    <tr style=\"text-align: right;\">\n",
       "      <th></th>\n",
       "      <th>Open</th>\n",
       "      <th>High</th>\n",
       "      <th>Low</th>\n",
       "      <th>Close</th>\n",
       "      <th>Volume</th>\n",
       "    </tr>\n",
       "    <tr>\n",
       "      <th>Date</th>\n",
       "      <th></th>\n",
       "      <th></th>\n",
       "      <th></th>\n",
       "      <th></th>\n",
       "      <th></th>\n",
       "    </tr>\n",
       "  </thead>\n",
       "  <tbody>\n",
       "    <tr>\n",
       "      <th>2008-01-02</th>\n",
       "      <td>7.572</td>\n",
       "      <td>7.876</td>\n",
       "      <td>7.564</td>\n",
       "      <td>7.850</td>\n",
       "      <td>68553</td>\n",
       "    </tr>\n",
       "    <tr>\n",
       "      <th>2008-01-03</th>\n",
       "      <td>7.873</td>\n",
       "      <td>7.980</td>\n",
       "      <td>7.610</td>\n",
       "      <td>7.674</td>\n",
       "      <td>72742</td>\n",
       "    </tr>\n",
       "    <tr>\n",
       "      <th>2008-01-04</th>\n",
       "      <td>7.652</td>\n",
       "      <td>7.859</td>\n",
       "      <td>7.500</td>\n",
       "      <td>7.841</td>\n",
       "      <td>61496</td>\n",
       "    </tr>\n",
       "    <tr>\n",
       "      <th>2008-01-07</th>\n",
       "      <td>7.803</td>\n",
       "      <td>7.940</td>\n",
       "      <td>7.701</td>\n",
       "      <td>7.879</td>\n",
       "      <td>56675</td>\n",
       "    </tr>\n",
       "    <tr>\n",
       "      <th>2008-01-08</th>\n",
       "      <td>7.909</td>\n",
       "      <td>7.997</td>\n",
       "      <td>7.880</td>\n",
       "      <td>7.967</td>\n",
       "      <td>53775</td>\n",
       "    </tr>\n",
       "  </tbody>\n",
       "</table>\n",
       "</div>"
      ],
      "text/plain": [
       "             Open   High    Low  Close  Volume\n",
       "Date                                          \n",
       "2008-01-02  7.572  7.876  7.564  7.850   68553\n",
       "2008-01-03  7.873  7.980  7.610  7.674   72742\n",
       "2008-01-04  7.652  7.859  7.500  7.841   61496\n",
       "2008-01-07  7.803  7.940  7.701  7.879   56675\n",
       "2008-01-08  7.909  7.997  7.880  7.967   53775"
      ]
     },
     "execution_count": 2,
     "metadata": {},
     "output_type": "execute_result"
    }
   ],
   "source": [
    "stocks = input(\"Enter the code of the stock:- \") \n",
    "data = yf.download(stocks, \"2008-01-01\", \"2021-01-18\", auto_adjust=True) \n",
    "data.head()"
   ]
  },
  {
   "cell_type": "code",
   "execution_count": 3,
   "id": "1fad0035-3f98-4309-b4b6-536c4d094c98",
   "metadata": {},
   "outputs": [
    {
     "data": {
      "text/plain": [
       "(3282, 5)"
      ]
     },
     "execution_count": 3,
     "metadata": {},
     "output_type": "execute_result"
    }
   ],
   "source": [
    "data.shape"
   ]
  },
  {
   "cell_type": "code",
   "execution_count": 4,
   "id": "12805a15-de1e-4b42-9cce-e51762c21b09",
   "metadata": {},
   "outputs": [
    {
     "data": {
      "text/html": [
       "<div>\n",
       "<style scoped>\n",
       "    .dataframe tbody tr th:only-of-type {\n",
       "        vertical-align: middle;\n",
       "    }\n",
       "\n",
       "    .dataframe tbody tr th {\n",
       "        vertical-align: top;\n",
       "    }\n",
       "\n",
       "    .dataframe thead th {\n",
       "        text-align: right;\n",
       "    }\n",
       "</style>\n",
       "<table border=\"1\" class=\"dataframe\">\n",
       "  <thead>\n",
       "    <tr style=\"text-align: right;\">\n",
       "      <th></th>\n",
       "      <th>Open</th>\n",
       "      <th>High</th>\n",
       "      <th>Low</th>\n",
       "      <th>Close</th>\n",
       "      <th>Volume</th>\n",
       "    </tr>\n",
       "  </thead>\n",
       "  <tbody>\n",
       "    <tr>\n",
       "      <th>count</th>\n",
       "      <td>3282.000000</td>\n",
       "      <td>3282.000000</td>\n",
       "      <td>3282.000000</td>\n",
       "      <td>3282.000000</td>\n",
       "      <td>3282.000000</td>\n",
       "    </tr>\n",
       "    <tr>\n",
       "      <th>mean</th>\n",
       "      <td>3.713705</td>\n",
       "      <td>3.787288</td>\n",
       "      <td>3.635038</td>\n",
       "      <td>3.707074</td>\n",
       "      <td>131397.603595</td>\n",
       "    </tr>\n",
       "    <tr>\n",
       "      <th>std</th>\n",
       "      <td>1.830425</td>\n",
       "      <td>1.865744</td>\n",
       "      <td>1.789584</td>\n",
       "      <td>1.825297</td>\n",
       "      <td>54393.040171</td>\n",
       "    </tr>\n",
       "    <tr>\n",
       "      <th>min</th>\n",
       "      <td>1.441000</td>\n",
       "      <td>1.567000</td>\n",
       "      <td>1.432000</td>\n",
       "      <td>1.482000</td>\n",
       "      <td>0.000000</td>\n",
       "    </tr>\n",
       "    <tr>\n",
       "      <th>25%</th>\n",
       "      <td>2.691250</td>\n",
       "      <td>2.736500</td>\n",
       "      <td>2.644000</td>\n",
       "      <td>2.693000</td>\n",
       "      <td>91744.250000</td>\n",
       "    </tr>\n",
       "    <tr>\n",
       "      <th>50%</th>\n",
       "      <td>3.253000</td>\n",
       "      <td>3.312000</td>\n",
       "      <td>3.183500</td>\n",
       "      <td>3.240500</td>\n",
       "      <td>126669.500000</td>\n",
       "    </tr>\n",
       "    <tr>\n",
       "      <th>75%</th>\n",
       "      <td>4.157750</td>\n",
       "      <td>4.244750</td>\n",
       "      <td>4.066750</td>\n",
       "      <td>4.152000</td>\n",
       "      <td>161490.500000</td>\n",
       "    </tr>\n",
       "    <tr>\n",
       "      <th>max</th>\n",
       "      <td>13.580000</td>\n",
       "      <td>13.694000</td>\n",
       "      <td>13.306000</td>\n",
       "      <td>13.577000</td>\n",
       "      <td>459196.000000</td>\n",
       "    </tr>\n",
       "  </tbody>\n",
       "</table>\n",
       "</div>"
      ],
      "text/plain": [
       "              Open         High          Low        Close         Volume\n",
       "count  3282.000000  3282.000000  3282.000000  3282.000000    3282.000000\n",
       "mean      3.713705     3.787288     3.635038     3.707074  131397.603595\n",
       "std       1.830425     1.865744     1.789584     1.825297   54393.040171\n",
       "min       1.441000     1.567000     1.432000     1.482000       0.000000\n",
       "25%       2.691250     2.736500     2.644000     2.693000   91744.250000\n",
       "50%       3.253000     3.312000     3.183500     3.240500  126669.500000\n",
       "75%       4.157750     4.244750     4.066750     4.152000  161490.500000\n",
       "max      13.580000    13.694000    13.306000    13.577000  459196.000000"
      ]
     },
     "execution_count": 4,
     "metadata": {},
     "output_type": "execute_result"
    }
   ],
   "source": [
    "data.describe()"
   ]
  },
  {
   "cell_type": "code",
   "execution_count": 5,
   "id": "267e0f16-2bf0-4cd6-ba90-2e30fff99575",
   "metadata": {},
   "outputs": [
    {
     "data": {
      "image/png": "[encoded data removed]",
      "text/plain": [
       "<Figure size 1000x700 with 1 Axes>"
      ]
     },
     "metadata": {},
     "output_type": "display_data"
    }
   ],
   "source": [
    "data.Close.plot(figsize=(10, 7),color='r')\n",
    "plt.ylabel(\"{} Prices\".format(stocks))\n",
    "plt.title(\"{} Price Series\".format(stocks))\n",
    "plt.show()"
   ]
  },
  {
   "cell_type": "code",
   "execution_count": 6,
   "id": "dedefa13-534e-4aea-b5d0-0f6570bf321e",
   "metadata": {},
   "outputs": [
    {
     "name": "stderr",
     "output_type": "stream",
     "text": [
      "C:\\Users\\mayuk\\AppData\\Local\\Temp\\ipykernel_20756\\1011311974.py:1: UserWarning: \n",
      "\n",
      "`distplot` is a deprecated function and will be removed in seaborn v0.14.0.\n",
      "\n",
      "Please adapt your code to use either `displot` (a figure-level function with\n",
      "similar flexibility) or `histplot` (an axes-level function for histograms).\n",
      "\n",
      "For a guide to updating your code to use the new functions, please see\n",
      "https://gist.github.com/mwaskom/de44147ed2974457ad6372750bbe5751\n",
      "\n",
      "  sns.distplot(data[\"Close\"])\n"
     ]
    },
    {
     "data": {
      "text/plain": [
       "<Axes: xlabel='Close', ylabel='Density'>"
      ]
     },
     "execution_count": 6,
     "metadata": {},
     "output_type": "execute_result"
    },
    {
     "data": {
      "image/png": "[encoded data removed]",
      "text/plain": [
       "<Figure size 640x480 with 1 Axes>"
      ]
     },
     "metadata": {},
     "output_type": "display_data"
    }
   ],
   "source": [
    "sns.distplot(data[\"Close\"]) "
   ]
  },
  {
   "cell_type": "code",
   "execution_count": 8,
   "id": "de53b7bb-1486-443a-8480-50eaf447d75c",
   "metadata": {},
   "outputs": [
    {
     "name": "stderr",
     "output_type": "stream",
     "text": [
      "C:\\Users\\mayuk\\AppData\\Local\\Temp\\ipykernel_20756\\3218051027.py:1: UserWarning: \n",
      "\n",
      "`distplot` is a deprecated function and will be removed in seaborn v0.14.0.\n",
      "\n",
      "Please adapt your code to use either `displot` (a figure-level function with\n",
      "similar flexibility) or `histplot` (an axes-level function for histograms).\n",
      "\n",
      "For a guide to updating your code to use the new functions, please see\n",
      "https://gist.github.com/mwaskom/de44147ed2974457ad6372750bbe5751\n",
      "\n",
      "  sns.distplot(data[\"Open\"])\n"
     ]
    },
    {
     "data": {
      "text/plain": [
       "<Axes: xlabel='Open', ylabel='Density'>"
      ]
     },
     "execution_count": 8,
     "metadata": {},
     "output_type": "execute_result"
    },
    {
     "data": {
      "image/png": "[encoded data removed]",
      "text/plain": [
       "<Figure size 640x480 with 1 Axes>"
      ]
     },
     "metadata": {},
     "output_type": "display_data"
    }
   ],
   "source": [
    "sns.distplot(data[\"Open\"])"
   ]
  },
  {
   "cell_type": "code",
   "execution_count": 9,
   "id": "1c305258-f6b0-44ea-b44e-802434c06bdb",
   "metadata": {},
   "outputs": [
    {
     "name": "stdout",
     "output_type": "stream",
     "text": [
      "(2625, 4)\n",
      "(657, 4)\n",
      "(2625,)\n",
      "(657,)\n"
     ]
    }
   ],
   "source": [
    "X = data.drop(\"Close\", axis=1) # all except close \n",
    "y = data[\"Close\"]  #\n",
    "\n",
    "from sklearn.model_selection import train_test_split \n",
    "\n",
    "X_train, X_test, y_train, y_test  = train_test_split(X,y,test_size=0.2, random_state=0) \n",
    "print(X_train.shape) \n",
    "print(X_test.shape) \n",
    "print(y_train.shape) \n",
    "print(y_test.shape) "
   ]
  },
  {
   "cell_type": "code",
   "execution_count": 10,
   "id": "468da75b-9909-45b2-ba02-b2f3bd521ec0",
   "metadata": {},
   "outputs": [],
   "source": [
    "from sklearn.linear_model import LinearRegression\n",
    "\n",
    "lr = LinearRegression() \n",
    "lr.fit(X_train, y_train) \n",
    "pred1 = lr.predict(X_test)"
   ]
  },
  {
   "cell_type": "code",
   "execution_count": 11,
   "id": "ffd9f6cd-886b-4bc6-bd68-a80fe077e694",
   "metadata": {},
   "outputs": [
    {
     "data": {
      "text/plain": [
       "array([ 2.80025521,  5.71452107,  2.67598004,  5.96209712,  2.11272627,\n",
       "       12.78073553,  3.96962911,  4.87093937,  1.7957296 ,  4.77535218,\n",
       "        2.88317702,  3.52438236,  2.78074708,  2.97823651,  4.2320276 ,\n",
       "        2.46605691,  4.14343586,  4.57617542,  9.00290889,  2.93461728,\n",
       "        4.41981471,  2.6638892 ,  2.54609005,  2.35659708,  2.85304719,\n",
       "        1.96549634,  2.77466247,  3.91456824,  3.30051883,  4.7520832 ,\n",
       "        4.02003703,  2.7084426 , 11.73817085,  4.23592618,  4.39406688,\n",
       "        3.68320373,  3.52338075,  5.32779806,  3.6551215 ,  3.42242166,\n",
       "        3.96382871,  2.42903792,  2.68051977,  2.61045398,  3.13018683,\n",
       "        4.4270207 ,  4.27296423,  2.75934544,  3.85466274,  1.99377504,\n",
       "        4.10987778,  2.45974884,  2.27348621,  3.96081824,  1.9306302 ,\n",
       "        3.23567102,  3.76555422,  4.96458716,  4.33327308,  3.4028305 ,\n",
       "        2.71162414,  3.90478554,  4.75601461,  3.15688221,  2.4433227 ,\n",
       "        2.55267657,  4.36853634,  3.90557551,  2.4086365 ,  2.85591592,\n",
       "        4.80443104,  2.8091012 ,  3.71938044,  4.39546873,  8.14468396,\n",
       "        3.78689605,  2.14085684,  4.41155869,  3.96480016,  2.05585265,\n",
       "        2.96044523,  1.82129173,  7.90103887,  2.74804643,  2.76341226,\n",
       "        2.57929039,  2.94658562,  2.61119412,  4.37940316,  2.58492868,\n",
       "        2.83129615, 13.04693695,  3.29325376,  4.40759475,  2.74585619,\n",
       "        2.96205382,  4.34157599,  3.7573663 ,  2.93209602,  3.81301898,\n",
       "        2.94037428,  3.67882682,  2.76969395,  2.94431215,  3.15715222,\n",
       "        2.69463878,  4.50081947,  1.61604406,  2.96141904,  4.01852184,\n",
       "        6.71841138,  3.73650383,  1.96708083,  2.98029051,  2.84472696,\n",
       "        4.7479714 ,  4.03720039,  2.81620144,  3.5894751 ,  3.29725746,\n",
       "        2.66962773,  5.35212074,  3.01733076,  2.61089783,  3.77572267,\n",
       "        2.17913658,  4.57369179,  4.85269089,  4.12791115,  3.98770631,\n",
       "        3.45616333,  6.57559334,  4.44341562,  5.01207288,  4.58105818,\n",
       "        3.04260618,  3.845115  ,  3.47501459,  2.13900044,  3.98605071,\n",
       "        2.98342741,  2.15289707,  5.86673531,  2.81820959,  1.78098109,\n",
       "        1.70966907,  3.13206137,  3.57201206,  2.93006641,  2.82845155,\n",
       "        4.91114873,  2.95042019,  4.2250416 ,  2.62571451,  1.76723021,\n",
       "        3.94993145,  2.89185929,  2.91905983,  4.50766721,  3.52043512,\n",
       "        4.32981012,  2.23162888,  2.26621723,  2.96738807,  3.28152962,\n",
       "        4.07056883,  3.79475223,  1.97082476,  6.74714117,  1.84119539,\n",
       "        2.39742513,  3.04006186,  2.94853292,  3.24091571,  3.82997679,\n",
       "        1.71511111,  3.74292505,  2.8753251 ,  2.42110189,  8.69322539,\n",
       "        2.80790575,  2.77134932,  2.68790924,  4.50438651,  3.92602826,\n",
       "        3.94953379,  2.5373144 ,  2.70633193,  2.95295195,  8.81735039,\n",
       "        1.87380638,  2.57098165,  3.16157991,  3.03424311,  2.90369759,\n",
       "        6.88823402,  3.81390382,  4.76408818,  2.73558355,  3.88985365,\n",
       "        2.54464031,  5.64950586,  3.40829703,  4.17949351,  2.83944867,\n",
       "        2.5778381 ,  2.56773306,  5.46968954,  4.53631389,  3.89981889,\n",
       "        4.74508112,  3.78445094,  3.61049342,  3.75352351,  2.23826856,\n",
       "        2.65398178,  1.89081909,  2.96171192,  2.2663065 ,  5.68573652,\n",
       "        3.73646469,  3.12579022,  3.91092447,  3.13840123,  1.63330822,\n",
       "        2.89946557,  5.00391673,  2.88730789,  4.3877614 ,  3.23663974,\n",
       "        4.09767154,  3.13230569,  4.62062052,  3.1604001 ,  3.14907702,\n",
       "        3.98205328,  4.12786856,  1.70408418,  2.25155394,  2.58570554,\n",
       "        4.11095087,  4.87404278,  3.8882599 ,  2.69351067,  3.71193299,\n",
       "        2.76743906,  3.95708814,  4.40820275,  2.3415753 ,  4.30387928,\n",
       "        4.73633541,  2.89178703,  3.30289272,  3.69019629,  2.07230537,\n",
       "        3.28925201,  4.04623537,  6.05854498,  3.32397316,  3.83695864,\n",
       "        2.48520494,  2.8118153 ,  4.24021474,  4.34443085,  8.0823413 ,\n",
       "        6.74978612,  2.02888987, 13.38610081,  2.59953525,  3.82260488,\n",
       "        2.3099757 ,  3.90127434,  3.75986663,  2.65406865,  3.86267332,\n",
       "       11.99246521,  3.87605062,  3.82042062,  4.4041632 ,  2.80793154,\n",
       "        3.29230894,  2.93861508,  3.64222069,  2.96043325, 10.25415631,\n",
       "        2.76216804,  1.99773072,  4.1028383 ,  3.66951773,  3.13848684,\n",
       "        3.3615927 ,  2.59072043,  4.4201242 ,  2.27359123,  2.80995154,\n",
       "        4.39328723,  1.84271355,  5.48269538,  7.16041103,  2.70230658,\n",
       "        2.47900766,  2.55732546,  3.45149459,  3.15398297,  2.33640811,\n",
       "        1.85060622,  9.40116559,  2.79315599,  3.14610078,  3.27929314,\n",
       "        2.53633721,  2.68911415,  1.98423075,  3.17198301,  2.93484803,\n",
       "        3.80816542,  3.03887987,  6.67408633,  4.08512629,  3.79541722,\n",
       "        3.99774833,  3.42385407,  2.81714773,  3.43128487,  3.65787699,\n",
       "        2.35152147,  3.62120708,  3.57204893,  3.82542059,  7.73422447,\n",
       "        4.09104117,  2.16513844,  2.77616033,  5.94030557,  1.75739612,\n",
       "        4.73903851,  3.60549648,  4.2107905 ,  4.01977799,  3.06805679,\n",
       "        4.26208449,  4.23026076,  4.02644501,  4.41248689,  4.36230414,\n",
       "        2.00572866,  2.2155735 ,  4.86585605,  2.61960643,  1.65625318,\n",
       "        4.97126438,  4.54487557,  3.58878266,  2.80185724,  3.82112861,\n",
       "        3.05812384,  1.83515815,  2.75963088,  4.09726959,  3.82356028,\n",
       "        5.01138711,  2.31983253,  3.32045596,  3.01209935,  1.83411076,\n",
       "        8.03807661,  4.21382015,  6.85111882,  1.61656324,  3.03912221,\n",
       "        4.02132187, 10.15998153,  4.26638   ,  2.95211528,  4.83201388,\n",
       "        2.73554407,  1.75955553,  4.49661646,  3.32990402,  2.99899396,\n",
       "        2.67045369,  2.85399648,  3.38731043,  2.32808939,  3.94098309,\n",
       "        4.05556425,  1.61236235,  4.66913106,  4.40303393,  4.49883762,\n",
       "        1.62257858,  2.7583104 ,  2.12711083,  1.78988895,  2.32527739,\n",
       "        2.93287461,  4.69334216,  2.76841438,  3.01059277,  2.51938857,\n",
       "        3.14961618,  2.96563992,  2.82958194,  3.91758842,  3.62841685,\n",
       "        4.36328883,  3.15895367,  3.51203342,  4.49221751,  5.08900312,\n",
       "        2.63223773,  2.96413195,  3.06178537,  7.96975399,  3.47691982,\n",
       "        2.79194848,  3.92164736,  4.78665863,  2.98396637,  3.37111527,\n",
       "        3.01780011,  2.62782453, 10.49779714,  3.40241655,  2.34599417,\n",
       "        5.52783485,  6.89519376,  4.16308091,  3.06922956,  2.25225946,\n",
       "        4.4333585 ,  7.96659508,  3.57530693,  2.65204673,  2.66025577,\n",
       "        7.0636593 ,  2.61487726,  3.70156576,  3.44393282,  3.13575034,\n",
       "        3.51312082,  4.55439611,  2.66769683,  7.61419163,  3.15455314,\n",
       "        1.73394212,  4.77939326,  3.60634236,  3.11268373,  4.40172786,\n",
       "        2.5715252 ,  2.65000046,  2.15216771,  2.77357825,  3.08235473,\n",
       "        4.06308455,  3.95109537,  1.90861813,  2.32333958,  2.04675286,\n",
       "        3.88260499,  2.11612696,  3.13477026,  2.88643821,  3.9432119 ,\n",
       "        2.65186609,  2.8657789 ,  2.59899544,  2.18702919,  2.93616322,\n",
       "        2.5758    ,  3.43189822,  2.77580712,  3.06309601,  2.05870197,\n",
       "        2.50279452,  4.15179954,  2.80047419,  7.79964142,  3.8164875 ,\n",
       "        2.28152957,  4.88229335,  3.22410648,  2.4089115 ,  4.59184676,\n",
       "        2.92299311,  1.72039908,  3.73660149,  2.81835122,  4.29465318,\n",
       "        3.94255586,  4.64614439,  2.54035416,  2.79209743,  2.66340977,\n",
       "        2.81578952,  5.02713523,  3.78597283,  1.61734684,  2.63149766,\n",
       "        5.73298951,  9.98313876,  3.87723151,  2.62494609,  3.67879336,\n",
       "        4.28846286,  4.00687761,  7.80877092,  1.96320161,  2.38737678,\n",
       "        4.10597493,  7.8034714 ,  3.08757723,  2.9110627 ,  3.93514536,\n",
       "        2.2743091 ,  2.44543676,  3.8620911 ,  2.72050822,  3.43155081,\n",
       "        3.52878973,  3.52454009,  3.54757507,  3.72889723,  2.61999306,\n",
       "        2.89881471,  4.18814166,  2.69525325,  2.94716581,  3.09484287,\n",
       "        2.18140361,  3.30082465,  3.98795111,  3.07489786,  2.81490883,\n",
       "        4.62091446,  3.85142607,  3.4964399 ,  4.39303013,  2.23079375,\n",
       "        2.82055257,  5.28502361,  3.57780354,  2.80293655,  4.55890005,\n",
       "        3.46395159,  2.97068566,  4.21163638,  2.89876635,  3.67169536,\n",
       "        3.27099427,  4.10620121,  3.93297677,  5.19520423,  3.58442367,\n",
       "        2.46519387,  3.37221771,  2.14635876,  2.63370861,  4.71717838,\n",
       "        8.150652  ,  4.17756617,  2.10375301,  2.03793421,  2.83528007,\n",
       "        9.92719191,  1.6543371 ,  8.4722556 ,  5.11179178,  3.43414025,\n",
       "        4.12355335,  2.06133695,  3.22546206,  2.44775405,  1.76371639,\n",
       "        2.97633787,  5.46642873,  2.94178451,  2.28843067,  2.76027011,\n",
       "        4.29835051,  2.00071489,  3.5107205 ,  3.59746644,  2.90892748,\n",
       "        4.48338586,  3.02249378,  1.71334587,  1.82159533,  4.77968729,\n",
       "        2.57088337,  3.7818867 ,  4.57867568,  2.27542649,  6.42839609,\n",
       "        3.80885099,  2.7973638 ,  3.30716516,  2.68329805,  4.10491692,\n",
       "        2.03524891,  5.75258541,  4.75395485,  4.10619909,  2.17167803,\n",
       "        3.66641004,  1.90185322,  1.77161855, 10.70214188,  2.10731938,\n",
       "        3.43699382,  4.94602554,  3.80057406,  2.2329304 ,  1.74613029,\n",
       "        5.32291643,  5.4194663 ,  2.52066402,  5.72281381,  2.96662406,\n",
       "        3.91489596,  3.55432791,  2.91402193,  3.21381037,  1.98404093,\n",
       "        3.52661957,  2.27622961,  1.83895067,  2.85392143,  4.18080136,\n",
       "        1.779285  ,  3.58308263,  9.05216389,  3.62154499,  2.17195344,\n",
       "        3.28328907,  2.14505861,  2.39442496,  3.08107194,  2.27448111,\n",
       "        1.85321811,  4.81449281,  8.64892789,  2.39022893,  3.42060659,\n",
       "        2.94360284,  3.27358653,  2.37670033,  2.69521658,  5.79024191,\n",
       "        3.91448475,  3.67680523,  3.88045718,  3.26051526,  3.68646808,\n",
       "        2.52198688,  4.08291212])"
      ]
     },
     "execution_count": 11,
     "metadata": {},
     "output_type": "execute_result"
    }
   ],
   "source": [
    "pred1"
   ]
  },
  {
   "cell_type": "code",
   "execution_count": 12,
   "id": "521523a5-2da2-4bc2-a450-32f6f9aad3cd",
   "metadata": {},
   "outputs": [
    {
     "name": "stdout",
     "output_type": "stream",
     "text": [
      "MSE:-  0.0015345662929012833\n",
      "RMSE:-  0.0391735407245922\n",
      "R2_score:-  0.9994383299702655\n"
     ]
    }
   ],
   "source": [
    "# MSE -- > Mean Squared  \n",
    "# RMSE ---> sart(MSE) \n",
    "# r2_square ---> 1.0 # good model \n",
    "\n",
    "from sklearn.metrics import mean_squared_error, r2_score \n",
    "\n",
    "\n",
    "def calculate_metrics(y_test, y_pred):  \n",
    "    ''' \n",
    "    y_test:- ground truth \n",
    "    y_pred:- model predict  \n",
    "    '''\n",
    "    mse = mean_squared_error(y_test, y_pred) \n",
    "    rmse = np.sqrt(mse) #no built in as mse and r2\n",
    "    r2_scors = r2_score(y_test, y_pred) \n",
    "    \n",
    "    print(\"MSE:- \", mse) \n",
    "    print(\"RMSE:- \", rmse) \n",
    "    print(\"R2_score:- \", r2_scors) \n",
    "    \n",
    "calculate_metrics(y_test, pred1)"
   ]
  },
  {
   "cell_type": "code",
   "execution_count": 13,
   "id": "dbce684b-9b48-4c15-a51a-eba662257590",
   "metadata": {},
   "outputs": [],
   "source": [
    "from sklearn.linear_model import Lasso, Ridge \n",
    "\n",
    "la = Lasso().fit(X_train, y_train )\n",
    "ri = Ridge().fit(X_train, y_train ) \n",
    "\n",
    "la_p = la.predict(X_test) \n",
    "ri_p = ri.predict(X_test)"
   ]
  },
  {
   "cell_type": "code",
   "execution_count": 14,
   "id": "12685615-fc5d-46be-825f-470ed2685b4e",
   "metadata": {},
   "outputs": [
    {
     "name": "stdout",
     "output_type": "stream",
     "text": [
      "MSE:-  0.2369233626053282\n",
      "RMSE:-  0.4867477402159441\n",
      "R2_score:-  0.9132831519010188\n"
     ]
    }
   ],
   "source": [
    "calculate_metrics(y_test, la_p) #overfitting"
   ]
  },
  {
   "cell_type": "code",
   "execution_count": 15,
   "id": "4f63f961-e24c-4cee-ada9-be9c42077509",
   "metadata": {},
   "outputs": [
    {
     "name": "stdout",
     "output_type": "stream",
     "text": [
      "MSE:-  0.0016151026199620988\n",
      "RMSE:-  0.04018833935312703\n",
      "R2_score:-  0.9994088526896656\n"
     ]
    }
   ],
   "source": [
    "calculate_metrics(y_test, ri_p) #using ridge less prone to overfitting"
   ]
  },
  {
   "cell_type": "code",
   "execution_count": 16,
   "id": "653ee8d6-e3ba-4d17-8e8a-5efd908a48b4",
   "metadata": {},
   "outputs": [
    {
     "name": "stdout",
     "output_type": "stream",
     "text": [
      "Fitting 5 folds for each of 25 candidates, totalling 125 fits\n",
      "[CV 1/5] END .......C=0.1, gamma=1, kernel=rbf;, score=-0.075 total time=   0.3s\n",
      "[CV 2/5] END .......C=0.1, gamma=1, kernel=rbf;, score=-0.070 total time=   0.3s\n",
      "[CV 3/5] END .......C=0.1, gamma=1, kernel=rbf;, score=-0.072 total time=   0.3s\n",
      "[CV 4/5] END .......C=0.1, gamma=1, kernel=rbf;, score=-0.073 total time=   0.3s\n",
      "[CV 5/5] END .......C=0.1, gamma=1, kernel=rbf;, score=-0.050 total time=   0.3s\n",
      "[CV 1/5] END .....C=0.1, gamma=0.1, kernel=rbf;, score=-0.074 total time=   0.4s\n",
      "[CV 2/5] END .....C=0.1, gamma=0.1, kernel=rbf;, score=-0.070 total time=   0.3s\n",
      "[CV 3/5] END .....C=0.1, gamma=0.1, kernel=rbf;, score=-0.072 total time=   0.3s\n",
      "[CV 4/5] END .....C=0.1, gamma=0.1, kernel=rbf;, score=-0.072 total time=   0.3s\n",
      "[CV 5/5] END .....C=0.1, gamma=0.1, kernel=rbf;, score=-0.050 total time=   0.4s\n",
      "[CV 1/5] END ....C=0.1, gamma=0.01, kernel=rbf;, score=-0.073 total time=   0.4s\n",
      "[CV 2/5] END ....C=0.1, gamma=0.01, kernel=rbf;, score=-0.070 total time=   0.3s\n",
      "[CV 3/5] END ....C=0.1, gamma=0.01, kernel=rbf;, score=-0.072 total time=   0.4s\n",
      "[CV 4/5] END ....C=0.1, gamma=0.01, kernel=rbf;, score=-0.069 total time=   0.3s\n",
      "[CV 5/5] END ....C=0.1, gamma=0.01, kernel=rbf;, score=-0.049 total time=   0.4s\n",
      "[CV 1/5] END ...C=0.1, gamma=0.001, kernel=rbf;, score=-0.065 total time=   0.4s\n",
      "[CV 2/5] END ...C=0.1, gamma=0.001, kernel=rbf;, score=-0.064 total time=   0.3s\n",
      "[CV 3/5] END ...C=0.1, gamma=0.001, kernel=rbf;, score=-0.064 total time=   0.4s\n",
      "[CV 4/5] END ...C=0.1, gamma=0.001, kernel=rbf;, score=-0.060 total time=   0.4s\n",
      "[CV 5/5] END ...C=0.1, gamma=0.001, kernel=rbf;, score=-0.047 total time=   0.3s\n",
      "[CV 1/5] END ..C=0.1, gamma=0.0001, kernel=rbf;, score=-0.052 total time=   0.3s\n",
      "[CV 2/5] END ..C=0.1, gamma=0.0001, kernel=rbf;, score=-0.049 total time=   0.3s\n",
      "[CV 3/5] END ..C=0.1, gamma=0.0001, kernel=rbf;, score=-0.042 total time=   0.3s\n",
      "[CV 4/5] END ..C=0.1, gamma=0.0001, kernel=rbf;, score=-0.042 total time=   0.3s\n",
      "[CV 5/5] END ..C=0.1, gamma=0.0001, kernel=rbf;, score=-0.034 total time=   0.4s\n",
      "[CV 1/5] END .........C=1, gamma=1, kernel=rbf;, score=-0.038 total time=   0.4s\n",
      "[CV 2/5] END .........C=1, gamma=1, kernel=rbf;, score=-0.037 total time=   0.3s\n",
      "[CV 3/5] END .........C=1, gamma=1, kernel=rbf;, score=-0.040 total time=   0.4s\n",
      "[CV 4/5] END .........C=1, gamma=1, kernel=rbf;, score=-0.041 total time=   0.4s\n",
      "[CV 5/5] END .........C=1, gamma=1, kernel=rbf;, score=-0.020 total time=   0.5s\n",
      "[CV 1/5] END .......C=1, gamma=0.1, kernel=rbf;, score=-0.037 total time=   0.4s\n",
      "[CV 2/5] END .......C=1, gamma=0.1, kernel=rbf;, score=-0.036 total time=   0.4s\n",
      "[CV 3/5] END .......C=1, gamma=0.1, kernel=rbf;, score=-0.039 total time=   0.3s\n",
      "[CV 4/5] END .......C=1, gamma=0.1, kernel=rbf;, score=-0.039 total time=   0.3s\n",
      "[CV 5/5] END .......C=1, gamma=0.1, kernel=rbf;, score=-0.022 total time=   0.4s\n",
      "[CV 1/5] END ......C=1, gamma=0.01, kernel=rbf;, score=-0.039 total time=   0.3s\n",
      "[CV 2/5] END ......C=1, gamma=0.01, kernel=rbf;, score=-0.046 total time=   0.3s\n",
      "[CV 3/5] END ......C=1, gamma=0.01, kernel=rbf;, score=-0.042 total time=   0.4s\n",
      "[CV 4/5] END ......C=1, gamma=0.01, kernel=rbf;, score=-0.020 total time=   0.4s\n",
      "[CV 5/5] END ......C=1, gamma=0.01, kernel=rbf;, score=-0.023 total time=   0.4s\n",
      "[CV 1/5] END .....C=1, gamma=0.001, kernel=rbf;, score=-0.030 total time=   0.3s\n",
      "[CV 2/5] END .....C=1, gamma=0.001, kernel=rbf;, score=-0.054 total time=   0.4s\n",
      "[CV 3/5] END .....C=1, gamma=0.001, kernel=rbf;, score=-0.045 total time=   0.3s\n",
      "[CV 4/5] END .....C=1, gamma=0.001, kernel=rbf;, score=-0.006 total time=   0.3s\n",
      "[CV 5/5] END .....C=1, gamma=0.001, kernel=rbf;, score=-0.030 total time=   0.4s\n",
      "[CV 1/5] END ....C=1, gamma=0.0001, kernel=rbf;, score=-0.027 total time=   0.3s\n",
      "[CV 2/5] END ....C=1, gamma=0.0001, kernel=rbf;, score=-0.043 total time=   0.4s\n",
      "[CV 3/5] END .....C=1, gamma=0.0001, kernel=rbf;, score=0.001 total time=   0.4s\n",
      "[CV 4/5] END .....C=1, gamma=0.0001, kernel=rbf;, score=0.010 total time=   0.3s\n",
      "[CV 5/5] END ....C=1, gamma=0.0001, kernel=rbf;, score=-0.039 total time=   0.4s\n",
      "[CV 1/5] END .........C=10, gamma=1, kernel=rbf;, score=0.002 total time=   0.5s\n",
      "[CV 2/5] END .........C=10, gamma=1, kernel=rbf;, score=0.002 total time=   0.5s\n",
      "[CV 3/5] END .........C=10, gamma=1, kernel=rbf;, score=0.001 total time=   0.4s\n",
      "[CV 4/5] END .........C=10, gamma=1, kernel=rbf;, score=0.001 total time=   0.4s\n",
      "[CV 5/5] END ........C=10, gamma=1, kernel=rbf;, score=-0.006 total time=   0.5s\n",
      "[CV 1/5] END .......C=10, gamma=0.1, kernel=rbf;, score=0.002 total time=   0.4s\n",
      "[CV 2/5] END .......C=10, gamma=0.1, kernel=rbf;, score=0.005 total time=   0.4s\n",
      "[CV 3/5] END .......C=10, gamma=0.1, kernel=rbf;, score=0.004 total time=   0.5s\n",
      "[CV 4/5] END .......C=10, gamma=0.1, kernel=rbf;, score=0.003 total time=   0.4s\n",
      "[CV 5/5] END ......C=10, gamma=0.1, kernel=rbf;, score=-0.004 total time=   0.4s\n",
      "[CV 1/5] END ......C=10, gamma=0.01, kernel=rbf;, score=0.012 total time=   0.4s\n",
      "[CV 2/5] END .....C=10, gamma=0.01, kernel=rbf;, score=-0.002 total time=   0.4s\n",
      "[CV 3/5] END .....C=10, gamma=0.01, kernel=rbf;, score=-0.008 total time=   0.4s\n",
      "[CV 4/5] END ......C=10, gamma=0.01, kernel=rbf;, score=0.070 total time=   0.4s\n",
      "[CV 5/5] END ......C=10, gamma=0.01, kernel=rbf;, score=0.030 total time=   0.5s\n",
      "[CV 1/5] END ....C=10, gamma=0.001, kernel=rbf;, score=-0.083 total time=   0.4s\n",
      "[CV 2/5] END ....C=10, gamma=0.001, kernel=rbf;, score=-0.115 total time=   0.4s\n",
      "[CV 3/5] END ....C=10, gamma=0.001, kernel=rbf;, score=-0.272 total time=   0.4s\n",
      "[CV 4/5] END ....C=10, gamma=0.001, kernel=rbf;, score=-0.008 total time=   0.4s\n",
      "[CV 5/5] END ....C=10, gamma=0.001, kernel=rbf;, score=-0.076 total time=   0.5s\n",
      "[CV 1/5] END ...C=10, gamma=0.0001, kernel=rbf;, score=-0.202 total time=   0.6s\n",
      "[CV 2/5] END ...C=10, gamma=0.0001, kernel=rbf;, score=-0.175 total time=   0.7s\n",
      "[CV 3/5] END ...C=10, gamma=0.0001, kernel=rbf;, score=-0.402 total time=   0.5s\n",
      "[CV 4/5] END ...C=10, gamma=0.0001, kernel=rbf;, score=-0.237 total time=   0.5s\n",
      "[CV 5/5] END ...C=10, gamma=0.0001, kernel=rbf;, score=-0.153 total time=   0.6s\n",
      "[CV 1/5] END ........C=100, gamma=1, kernel=rbf;, score=0.002 total time=   0.4s\n",
      "[CV 2/5] END ........C=100, gamma=1, kernel=rbf;, score=0.002 total time=   0.4s\n",
      "[CV 3/5] END ........C=100, gamma=1, kernel=rbf;, score=0.001 total time=   0.5s\n",
      "[CV 4/5] END ........C=100, gamma=1, kernel=rbf;, score=0.001 total time=   0.5s\n",
      "[CV 5/5] END .......C=100, gamma=1, kernel=rbf;, score=-0.006 total time=   0.4s\n",
      "[CV 1/5] END ......C=100, gamma=0.1, kernel=rbf;, score=0.002 total time=   0.5s\n",
      "[CV 2/5] END ......C=100, gamma=0.1, kernel=rbf;, score=0.005 total time=   0.4s\n",
      "[CV 3/5] END ......C=100, gamma=0.1, kernel=rbf;, score=0.004 total time=   0.4s\n",
      "[CV 4/5] END ......C=100, gamma=0.1, kernel=rbf;, score=0.003 total time=   0.4s\n",
      "[CV 5/5] END .....C=100, gamma=0.1, kernel=rbf;, score=-0.004 total time=   0.4s\n",
      "[CV 1/5] END .....C=100, gamma=0.01, kernel=rbf;, score=0.012 total time=   0.4s\n",
      "[CV 2/5] END ....C=100, gamma=0.01, kernel=rbf;, score=-0.002 total time=   0.4s\n",
      "[CV 3/5] END ....C=100, gamma=0.01, kernel=rbf;, score=-0.008 total time=   0.5s\n",
      "[CV 4/5] END .....C=100, gamma=0.01, kernel=rbf;, score=0.070 total time=   0.4s\n",
      "[CV 5/5] END .....C=100, gamma=0.01, kernel=rbf;, score=0.030 total time=   0.4s\n",
      "[CV 1/5] END ...C=100, gamma=0.001, kernel=rbf;, score=-0.098 total time=   0.4s\n",
      "[CV 2/5] END ...C=100, gamma=0.001, kernel=rbf;, score=-0.145 total time=   0.5s\n",
      "[CV 3/5] END ...C=100, gamma=0.001, kernel=rbf;, score=-0.305 total time=   0.4s\n",
      "[CV 4/5] END ...C=100, gamma=0.001, kernel=rbf;, score=-0.031 total time=   0.5s\n",
      "[CV 5/5] END ...C=100, gamma=0.001, kernel=rbf;, score=-0.129 total time=   0.5s\n",
      "[CV 1/5] END ..C=100, gamma=0.0001, kernel=rbf;, score=-0.547 total time=   0.9s\n",
      "[CV 2/5] END ..C=100, gamma=0.0001, kernel=rbf;, score=-0.947 total time=   0.9s\n",
      "[CV 3/5] END ..C=100, gamma=0.0001, kernel=rbf;, score=-0.855 total time=   0.9s\n",
      "[CV 4/5] END ..C=100, gamma=0.0001, kernel=rbf;, score=-0.626 total time=   0.8s\n",
      "[CV 5/5] END ..C=100, gamma=0.0001, kernel=rbf;, score=-1.239 total time=   1.1s\n",
      "[CV 1/5] END .......C=1000, gamma=1, kernel=rbf;, score=0.002 total time=   0.4s\n",
      "[CV 2/5] END .......C=1000, gamma=1, kernel=rbf;, score=0.002 total time=   0.4s\n",
      "[CV 3/5] END .......C=1000, gamma=1, kernel=rbf;, score=0.001 total time=   0.4s\n",
      "[CV 4/5] END .......C=1000, gamma=1, kernel=rbf;, score=0.001 total time=   0.4s\n",
      "[CV 5/5] END ......C=1000, gamma=1, kernel=rbf;, score=-0.006 total time=   0.4s\n",
      "[CV 1/5] END .....C=1000, gamma=0.1, kernel=rbf;, score=0.002 total time=   0.4s\n",
      "[CV 2/5] END .....C=1000, gamma=0.1, kernel=rbf;, score=0.005 total time=   0.4s\n",
      "[CV 3/5] END .....C=1000, gamma=0.1, kernel=rbf;, score=0.004 total time=   0.4s\n",
      "[CV 4/5] END .....C=1000, gamma=0.1, kernel=rbf;, score=0.003 total time=   0.5s\n",
      "[CV 5/5] END ....C=1000, gamma=0.1, kernel=rbf;, score=-0.004 total time=   0.3s\n",
      "[CV 1/5] END ....C=1000, gamma=0.01, kernel=rbf;, score=0.012 total time=   0.5s\n",
      "[CV 2/5] END ...C=1000, gamma=0.01, kernel=rbf;, score=-0.002 total time=   0.4s\n",
      "[CV 3/5] END ...C=1000, gamma=0.01, kernel=rbf;, score=-0.008 total time=   0.4s\n",
      "[CV 4/5] END ....C=1000, gamma=0.01, kernel=rbf;, score=0.070 total time=   0.4s\n",
      "[CV 5/5] END ....C=1000, gamma=0.01, kernel=rbf;, score=0.030 total time=   0.4s\n",
      "[CV 1/5] END ..C=1000, gamma=0.001, kernel=rbf;, score=-0.098 total time=   0.5s\n",
      "[CV 2/5] END ..C=1000, gamma=0.001, kernel=rbf;, score=-0.146 total time=   0.5s\n",
      "[CV 3/5] END ..C=1000, gamma=0.001, kernel=rbf;, score=-0.305 total time=   0.5s\n",
      "[CV 4/5] END ..C=1000, gamma=0.001, kernel=rbf;, score=-0.030 total time=   0.5s\n",
      "[CV 5/5] END ..C=1000, gamma=0.001, kernel=rbf;, score=-0.128 total time=   0.5s\n",
      "[CV 1/5] END .C=1000, gamma=0.0001, kernel=rbf;, score=-0.829 total time=   3.7s\n",
      "[CV 2/5] END .C=1000, gamma=0.0001, kernel=rbf;, score=-1.384 total time=   4.0s\n",
      "[CV 3/5] END .C=1000, gamma=0.0001, kernel=rbf;, score=-0.998 total time=   3.9s\n",
      "[CV 4/5] END .C=1000, gamma=0.0001, kernel=rbf;, score=-0.918 total time=   4.0s\n",
      "[CV 5/5] END .C=1000, gamma=0.0001, kernel=rbf;, score=-1.301 total time=   3.7s\n"
     ]
    },
    {
     "data": {
      "text/html": [
       "<style>#sk-container-id-1 {color: black;}#sk-container-id-1 pre{padding: 0;}#sk-container-id-1 div.sk-toggleable {background-color: white;}#sk-container-id-1 label.sk-toggleable__label {cursor: pointer;display: block;width: 100%;margin-bottom: 0;padding: 0.3em;box-sizing: border-box;text-align: center;}#sk-container-id-1 label.sk-toggleable__label-arrow:before {content: \"▸\";float: left;margin-right: 0.25em;color: #696969;}#sk-container-id-1 label.sk-toggleable__label-arrow:hover:before {color: black;}#sk-container-id-1 div.sk-estimator:hover label.sk-toggleable__label-arrow:before {color: black;}#sk-container-id-1 div.sk-toggleable__content {max-height: 0;max-width: 0;overflow: hidden;text-align: left;background-color: #f0f8ff;}#sk-container-id-1 div.sk-toggleable__content pre {margin: 0.2em;color: black;border-radius: 0.25em;background-color: #f0f8ff;}#sk-container-id-1 input.sk-toggleable__control:checked~div.sk-toggleable__content {max-height: 200px;max-width: 100%;overflow: auto;}#sk-container-id-1 input.sk-toggleable__control:checked~label.sk-toggleable__label-arrow:before {content: \"▾\";}#sk-container-id-1 div.sk-estimator input.sk-toggleable__control:checked~label.sk-toggleable__label {background-color: #d4ebff;}#sk-container-id-1 div.sk-label input.sk-toggleable__control:checked~label.sk-toggleable__label {background-color: #d4ebff;}#sk-container-id-1 input.sk-hidden--visually {border: 0;clip: rect(1px 1px 1px 1px);clip: rect(1px, 1px, 1px, 1px);height: 1px;margin: -1px;overflow: hidden;padding: 0;position: absolute;width: 1px;}#sk-container-id-1 div.sk-estimator {font-family: monospace;background-color: #f0f8ff;border: 1px dotted black;border-radius: 0.25em;box-sizing: border-box;margin-bottom: 0.5em;}#sk-container-id-1 div.sk-estimator:hover {background-color: #d4ebff;}#sk-container-id-1 div.sk-parallel-item::after {content: \"\";width: 100%;border-bottom: 1px solid gray;flex-grow: 1;}#sk-container-id-1 div.sk-label:hover label.sk-toggleable__label {background-color: #d4ebff;}#sk-container-id-1 div.sk-serial::before {content: \"\";position: absolute;border-left: 1px solid gray;box-sizing: border-box;top: 0;bottom: 0;left: 50%;z-index: 0;}#sk-container-id-1 div.sk-serial {display: flex;flex-direction: column;align-items: center;background-color: white;padding-right: 0.2em;padding-left: 0.2em;position: relative;}#sk-container-id-1 div.sk-item {position: relative;z-index: 1;}#sk-container-id-1 div.sk-parallel {display: flex;align-items: stretch;justify-content: center;background-color: white;position: relative;}#sk-container-id-1 div.sk-item::before, #sk-container-id-1 div.sk-parallel-item::before {content: \"\";position: absolute;border-left: 1px solid gray;box-sizing: border-box;top: 0;bottom: 0;left: 50%;z-index: -1;}#sk-container-id-1 div.sk-parallel-item {display: flex;flex-direction: column;z-index: 1;position: relative;background-color: white;}#sk-container-id-1 div.sk-parallel-item:first-child::after {align-self: flex-end;width: 50%;}#sk-container-id-1 div.sk-parallel-item:last-child::after {align-self: flex-start;width: 50%;}#sk-container-id-1 div.sk-parallel-item:only-child::after {width: 0;}#sk-container-id-1 div.sk-dashed-wrapped {border: 1px dashed gray;margin: 0 0.4em 0.5em 0.4em;box-sizing: border-box;padding-bottom: 0.4em;background-color: white;}#sk-container-id-1 div.sk-label label {font-family: monospace;font-weight: bold;display: inline-block;line-height: 1.2em;}#sk-container-id-1 div.sk-label-container {text-align: center;}#sk-container-id-1 div.sk-container {/* jupyter's `normalize.less` sets `[hidden] { display: none; }` but bootstrap.min.css set `[hidden] { display: none !important; }` so we also need the `!important` here to be able to override the default hidden behavior on the sphinx rendered scikit-learn.org. See: https://github.com/scikit-learn/scikit-learn/issues/21755 */display: inline-block !important;position: relative;}#sk-container-id-1 div.sk-text-repr-fallback {display: none;}</style><div id=\"sk-container-id-1\" class=\"sk-top-container\"><div class=\"sk-text-repr-fallback\"><pre>GridSearchCV(estimator=SVR(),\n",
       "             param_grid={&#x27;C&#x27;: [0.1, 1, 10, 100, 1000],\n",
       "                         &#x27;gamma&#x27;: [1, 0.1, 0.01, 0.001, 0.0001],\n",
       "                         &#x27;kernel&#x27;: [&#x27;rbf&#x27;]},\n",
       "             verbose=3)</pre><b>In a Jupyter environment, please rerun this cell to show the HTML representation or trust the notebook. <br />On GitHub, the HTML representation is unable to render, please try loading this page with nbviewer.org.</b></div><div class=\"sk-container\" hidden><div class=\"sk-item sk-dashed-wrapped\"><div class=\"sk-label-container\"><div class=\"sk-label sk-toggleable\"><input class=\"sk-toggleable__control sk-hidden--visually\" id=\"sk-estimator-id-1\" type=\"checkbox\" ><label for=\"sk-estimator-id-1\" class=\"sk-toggleable__label sk-toggleable__label-arrow\">GridSearchCV</label><div class=\"sk-toggleable__content\"><pre>GridSearchCV(estimator=SVR(),\n",
       "             param_grid={&#x27;C&#x27;: [0.1, 1, 10, 100, 1000],\n",
       "                         &#x27;gamma&#x27;: [1, 0.1, 0.01, 0.001, 0.0001],\n",
       "                         &#x27;kernel&#x27;: [&#x27;rbf&#x27;]},\n",
       "             verbose=3)</pre></div></div></div><div class=\"sk-parallel\"><div class=\"sk-parallel-item\"><div class=\"sk-item\"><div class=\"sk-label-container\"><div class=\"sk-label sk-toggleable\"><input class=\"sk-toggleable__control sk-hidden--visually\" id=\"sk-estimator-id-2\" type=\"checkbox\" ><label for=\"sk-estimator-id-2\" class=\"sk-toggleable__label sk-toggleable__label-arrow\">estimator: SVR</label><div class=\"sk-toggleable__content\"><pre>SVR()</pre></div></div></div><div class=\"sk-serial\"><div class=\"sk-item\"><div class=\"sk-estimator sk-toggleable\"><input class=\"sk-toggleable__control sk-hidden--visually\" id=\"sk-estimator-id-3\" type=\"checkbox\" ><label for=\"sk-estimator-id-3\" class=\"sk-toggleable__label sk-toggleable__label-arrow\">SVR</label><div class=\"sk-toggleable__content\"><pre>SVR()</pre></div></div></div></div></div></div></div></div></div></div>"
      ],
      "text/plain": [
       "GridSearchCV(estimator=SVR(),\n",
       "             param_grid={'C': [0.1, 1, 10, 100, 1000],\n",
       "                         'gamma': [1, 0.1, 0.01, 0.001, 0.0001],\n",
       "                         'kernel': ['rbf']},\n",
       "             verbose=3)"
      ]
     },
     "execution_count": 16,
     "metadata": {},
     "output_type": "execute_result"
    }
   ],
   "source": [
    "from sklearn.svm import SVR \n",
    "from sklearn.model_selection import GridSearchCV \n",
    "\n",
    "svr = SVR() \n",
    "\n",
    "\n",
    "param_grid = {'C': [0.1, 1, 10, 100, 1000],    # c is just lambda tells us the width of the margin checking with all the values given\n",
    "              'gamma': [1, 0.1, 0.01, 0.001, 0.0001], \n",
    "              'kernel': ['rbf']} #radial basis function\n",
    "\n",
    "grid = GridSearchCV(SVR(), param_grid, refit=True, verbose=3)    \n",
    "grid.fit(X_train, y_train)"
   ]
  },
  {
   "cell_type": "code",
   "execution_count": 17,
   "id": "c793698b-ce9f-4d47-bbc7-fd556c060807",
   "metadata": {},
   "outputs": [],
   "source": [
    "svr = SVR(C=10, gamma=0.01, kernel='rbf') \n",
    "svr.fit(X_train, y_train) \n",
    "svr_pred = svr.predict(X_test) "
   ]
  },
  {
   "cell_type": "code",
   "execution_count": 18,
   "id": "69728aae-13ee-40e1-a3dc-63aa94c2abe1",
   "metadata": {},
   "outputs": [],
   "source": [
    "import joblib  \n",
    "\n",
    "joblib.dump(ri, 'model.pkl') \n",
    "\n",
    "ridge_from_joblib = model = joblib.load(\"model.pkl\")"
   ]
  },
  {
   "cell_type": "code",
   "execution_count": null,
   "id": "a122f16d-1c84-4f11-9c58-e8bf5c8367ea",
   "metadata": {},
   "outputs": [],
   "source": [
    "#here svm performing is bad because we dont have a lot of features\n",
    "#regularization works here"
   ]
  }
 ],
 "metadata": {
  "kernelspec": {
   "display_name": "Python 3 (ipykernel)",
   "language": "python",
   "name": "python3"
  },
  "language_info": {
   "codemirror_mode": {
    "name": "ipython",
    "version": 3
   },
   "file_extension": ".py",
   "mimetype": "text/x-python",
   "name": "python",
   "nbconvert_exporter": "python",
   "pygments_lexer": "ipython3",
   "version": "3.12.0"
  }
 },
 "nbformat": 4,
 "nbformat_minor": 5
}
